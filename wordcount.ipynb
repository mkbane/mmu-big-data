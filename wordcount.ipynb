{
  "nbformat": 4,
  "nbformat_minor": 0,
  "metadata": {
    "colab": {
      "name": "wordcount.ipynb",
      "provenance": [],
      "collapsed_sections": [],
      "authorship_tag": "ABX9TyPP59iNJodYn3NnFwq+zGsA",
      "include_colab_link": true
    },
    "kernelspec": {
      "name": "python3",
      "display_name": "Python 3"
    },
    "language_info": {
      "name": "python"
    }
  },
  "cells": [
    {
      "cell_type": "markdown",
      "metadata": {
        "id": "view-in-github",
        "colab_type": "text"
      },
      "source": [
        "<a href=\"https://colab.research.google.com/github/mkbane/mmu-big-data/blob/main/wordcount.ipynb\" target=\"_parent\"><img src=\"https://colab.research.google.com/assets/colab-badge.svg\" alt=\"Open In Colab\"/></a>"
      ]
    },
    {
      "cell_type": "code",
      "execution_count": null,
      "metadata": {
        "colab": {
          "base_uri": "https://localhost:8080/"
        },
        "id": "WA9IMxEzp91X",
        "outputId": "083410fe-f7d1-42fc-edd0-f73d30280d99"
      },
      "outputs": [
        {
          "output_type": "stream",
          "name": "stdout",
          "text": [
            "counts_via_RDD.txt  spark-3.2.1-bin-hadoop3.2\t   t8.shakespeare.txt\n",
            "sample_data\t    spark-3.2.1-bin-hadoop3.2.tgz\n"
          ]
        }
      ],
      "source": [
        "!ls"
      ]
    },
    {
      "cell_type": "code",
      "source": [
        "# set-up spark (NB if Apache amend versions on download site we will need to amend path in wget command)\n",
        "!clear\n",
        "!echo welcome\n",
        "!ls\n",
        "!rm -f spark-3.2.[01]-bin-hadoop3.2.tgz* \n",
        "!rm -rf spark-3.2.[01]-bin-hadoop3.2\n",
        "!apt-get install openjdk-8-jdk-headless -qq > /dev/null\n",
        "!wget https://downloads.apache.org/spark/spark-3.2.1/spark-3.2.1-bin-hadoop3.2.tgz\n",
        "!tar -xf spark-3.2.1-bin-hadoop3.2.tgz\n",
        "!ls -alt"
      ],
      "metadata": {
        "colab": {
          "base_uri": "https://localhost:8080/"
        },
        "id": "2K7DYWwCqFBz",
        "outputId": "682b92f7-739c-4ef3-9414-da4461e1357d"
      },
      "execution_count": null,
      "outputs": [
        {
          "output_type": "stream",
          "name": "stdout",
          "text": [
            "\u001b[H\u001b[2Jwelcome\n",
            "sample_data\n",
            "--2022-02-21 19:12:54--  https://downloads.apache.org/spark/spark-3.2.1/spark-3.2.1-bin-hadoop3.2.tgz\n",
            "Resolving downloads.apache.org (downloads.apache.org)... 88.99.95.219, 135.181.214.104, 2a01:4f9:3a:2c57::2, ...\n",
            "Connecting to downloads.apache.org (downloads.apache.org)|88.99.95.219|:443... connected.\n",
            "HTTP request sent, awaiting response... 200 OK\n",
            "Length: 300971569 (287M) [application/x-gzip]\n",
            "Saving to: ‘spark-3.2.1-bin-hadoop3.2.tgz’\n",
            "\n",
            "spark-3.2.1-bin-had 100%[===================>] 287.03M  25.7MB/s    in 12s     \n",
            "\n",
            "2022-02-21 19:13:07 (23.9 MB/s) - ‘spark-3.2.1-bin-hadoop3.2.tgz’ saved [300971569/300971569]\n",
            "\n",
            "total 293940\n",
            "drwxr-xr-x  1 root root      4096 Feb 21 19:13 .\n",
            "drwxr-xr-x  1 root root      4096 Feb 21 19:11 ..\n",
            "drwxr-xr-x  1 root root      4096 Feb  1 14:32 sample_data\n",
            "drwxr-xr-x  4 root root      4096 Feb  1 14:31 .config\n",
            "-rw-r--r--  1 root root 300971569 Jan 20 21:37 spark-3.2.1-bin-hadoop3.2.tgz\n",
            "drwxr-xr-x 13  501 1000      4096 Jan 20 20:10 spark-3.2.1-bin-hadoop3.2\n"
          ]
        }
      ]
    },
    {
      "cell_type": "code",
      "source": [
        "!hdfs dfs -ls"
      ],
      "metadata": {
        "colab": {
          "base_uri": "https://localhost:8080/"
        },
        "id": "ofsgxODVp_h-",
        "outputId": "b15b55ae-3d7b-4747-ff24-023414708c48"
      },
      "execution_count": null,
      "outputs": [
        {
          "output_type": "stream",
          "name": "stdout",
          "text": [
            "/bin/bash: hdfs: command not found\n"
          ]
        }
      ]
    },
    {
      "cell_type": "code",
      "source": [
        "#do a map-reduce word count\n",
        "\n",
        "# wget file\n",
        "!wget https://ocw.mit.edu/ans7870/6/6.006/s08/lecturenotes/files/t8.shakespeare.txt\n",
        "!ls"
      ],
      "metadata": {
        "colab": {
          "base_uri": "https://localhost:8080/"
        },
        "id": "eaYCw8S3qTOV",
        "outputId": "87c84ab5-a313-41f5-f025-d61f149d5a24"
      },
      "execution_count": null,
      "outputs": [
        {
          "output_type": "stream",
          "name": "stdout",
          "text": [
            "--2022-02-21 19:13:24--  https://ocw.mit.edu/ans7870/6/6.006/s08/lecturenotes/files/t8.shakespeare.txt\n",
            "Resolving ocw.mit.edu (ocw.mit.edu)... 151.101.2.133, 151.101.66.133, 151.101.130.133, ...\n",
            "Connecting to ocw.mit.edu (ocw.mit.edu)|151.101.2.133|:443... connected.\n",
            "HTTP request sent, awaiting response... 200 OK\n",
            "Length: 5458199 (5.2M) [text/plain]\n",
            "Saving to: ‘t8.shakespeare.txt’\n",
            "\n",
            "t8.shakespeare.txt  100%[===================>]   5.21M  --.-KB/s    in 0.08s   \n",
            "\n",
            "2022-02-21 19:13:25 (68.5 MB/s) - ‘t8.shakespeare.txt’ saved [5458199/5458199]\n",
            "\n",
            "sample_data\t\t   spark-3.2.1-bin-hadoop3.2.tgz\n",
            "spark-3.2.1-bin-hadoop3.2  t8.shakespeare.txt\n"
          ]
        }
      ]
    },
    {
      "cell_type": "code",
      "source": [
        "# init spark (ensure SPARK_HOME set to same version as we download earlier)\n",
        "!pip3 install findspark\n",
        "import os\n",
        "os.environ[\"JAVA_HOME\"] = \"/usr/lib/jvm/java-8-openjdk-amd64\"\n",
        "os.environ[\"SPARK_HOME\"] = \"/content/spark-3.2.1-bin-hadoop3.2\"\n",
        "import findspark\n",
        "findspark.init()\n",
        "from pyspark import SparkConf, SparkContext\n",
        "# the next line gives us 'local' mode. try 'local[2]' to use 2 cores or 'master:NNNN' to run on Spark standalone cluster at port NNNN\n",
        "spark_conf = SparkConf().setMaster('local[4]').setAppName('MyApp')\n",
        "sc = SparkContext(conf=spark_conf)\n",
        "# see what we have by examining the Spark User Interface\n",
        "from pyspark.sql import *\n",
        "from pyspark.sql.functions import *\n",
        "SparkSession.builder.getOrCreate()"
      ],
      "metadata": {
        "colab": {
          "base_uri": "https://localhost:8080/",
          "height": 236
        },
        "id": "vKS9NWV-1V5h",
        "outputId": "606a7490-3920-4fdc-94ee-cab85bfa830c"
      },
      "execution_count": null,
      "outputs": [
        {
          "output_type": "stream",
          "name": "stdout",
          "text": [
            "Requirement already satisfied: findspark in /usr/local/lib/python3.7/dist-packages (2.0.1)\n"
          ]
        },
        {
          "output_type": "execute_result",
          "data": {
            "text/html": [
              "\n",
              "            <div>\n",
              "                <p><b>SparkSession - in-memory</b></p>\n",
              "                \n",
              "        <div>\n",
              "            <p><b>SparkContext</b></p>\n",
              "\n",
              "            <p><a href=\"http://e19fd52cded4:4040\">Spark UI</a></p>\n",
              "\n",
              "            <dl>\n",
              "              <dt>Version</dt>\n",
              "                <dd><code>v3.2.1</code></dd>\n",
              "              <dt>Master</dt>\n",
              "                <dd><code>local[4]</code></dd>\n",
              "              <dt>AppName</dt>\n",
              "                <dd><code>MyApp</code></dd>\n",
              "            </dl>\n",
              "        </div>\n",
              "        \n",
              "            </div>\n",
              "        "
            ],
            "text/plain": [
              "<pyspark.sql.session.SparkSession at 0x7f3c96d264d0>"
            ]
          },
          "metadata": {},
          "execution_count": 2
        }
      ]
    },
    {
      "cell_type": "code",
      "source": [
        "!cat /proc/cpuinfo"
      ],
      "metadata": {
        "colab": {
          "base_uri": "https://localhost:8080/"
        },
        "id": "9mhBQN1Tu9h5",
        "outputId": "b88b0261-3944-496f-d367-0ebb875752d0"
      },
      "execution_count": null,
      "outputs": [
        {
          "output_type": "stream",
          "name": "stdout",
          "text": [
            "processor\t: 0\n",
            "vendor_id\t: GenuineIntel\n",
            "cpu family\t: 6\n",
            "model\t\t: 79\n",
            "model name\t: Intel(R) Xeon(R) CPU @ 2.20GHz\n",
            "stepping\t: 0\n",
            "microcode\t: 0x1\n",
            "cpu MHz\t\t: 2199.998\n",
            "cache size\t: 56320 KB\n",
            "physical id\t: 0\n",
            "siblings\t: 2\n",
            "core id\t\t: 0\n",
            "cpu cores\t: 1\n",
            "apicid\t\t: 0\n",
            "initial apicid\t: 0\n",
            "fpu\t\t: yes\n",
            "fpu_exception\t: yes\n",
            "cpuid level\t: 13\n",
            "wp\t\t: yes\n",
            "flags\t\t: fpu vme de pse tsc msr pae mce cx8 apic sep mtrr pge mca cmov pat pse36 clflush mmx fxsr sse sse2 ss ht syscall nx pdpe1gb rdtscp lm constant_tsc rep_good nopl xtopology nonstop_tsc cpuid tsc_known_freq pni pclmulqdq ssse3 fma cx16 pcid sse4_1 sse4_2 x2apic movbe popcnt aes xsave avx f16c rdrand hypervisor lahf_lm abm 3dnowprefetch invpcid_single ssbd ibrs ibpb stibp fsgsbase tsc_adjust bmi1 hle avx2 smep bmi2 erms invpcid rtm rdseed adx smap xsaveopt arat md_clear arch_capabilities\n",
            "bugs\t\t: cpu_meltdown spectre_v1 spectre_v2 spec_store_bypass l1tf mds swapgs taa\n",
            "bogomips\t: 4399.99\n",
            "clflush size\t: 64\n",
            "cache_alignment\t: 64\n",
            "address sizes\t: 46 bits physical, 48 bits virtual\n",
            "power management:\n",
            "\n",
            "processor\t: 1\n",
            "vendor_id\t: GenuineIntel\n",
            "cpu family\t: 6\n",
            "model\t\t: 79\n",
            "model name\t: Intel(R) Xeon(R) CPU @ 2.20GHz\n",
            "stepping\t: 0\n",
            "microcode\t: 0x1\n",
            "cpu MHz\t\t: 2199.998\n",
            "cache size\t: 56320 KB\n",
            "physical id\t: 0\n",
            "siblings\t: 2\n",
            "core id\t\t: 0\n",
            "cpu cores\t: 1\n",
            "apicid\t\t: 1\n",
            "initial apicid\t: 1\n",
            "fpu\t\t: yes\n",
            "fpu_exception\t: yes\n",
            "cpuid level\t: 13\n",
            "wp\t\t: yes\n",
            "flags\t\t: fpu vme de pse tsc msr pae mce cx8 apic sep mtrr pge mca cmov pat pse36 clflush mmx fxsr sse sse2 ss ht syscall nx pdpe1gb rdtscp lm constant_tsc rep_good nopl xtopology nonstop_tsc cpuid tsc_known_freq pni pclmulqdq ssse3 fma cx16 pcid sse4_1 sse4_2 x2apic movbe popcnt aes xsave avx f16c rdrand hypervisor lahf_lm abm 3dnowprefetch invpcid_single ssbd ibrs ibpb stibp fsgsbase tsc_adjust bmi1 hle avx2 smep bmi2 erms invpcid rtm rdseed adx smap xsaveopt arat md_clear arch_capabilities\n",
            "bugs\t\t: cpu_meltdown spectre_v1 spectre_v2 spec_store_bypass l1tf mds swapgs taa\n",
            "bogomips\t: 4399.99\n",
            "clflush size\t: 64\n",
            "cache_alignment\t: 64\n",
            "address sizes\t: 46 bits physical, 48 bits virtual\n",
            "power management:\n",
            "\n"
          ]
        }
      ]
    },
    {
      "cell_type": "markdown",
      "source": [
        "RDD EXAMPLE"
      ],
      "metadata": {
        "id": "w7BuH7lOspBi"
      }
    },
    {
      "cell_type": "code",
      "source": [
        "text_file = sc.textFile(\"t8.shakespeare.txt\")\n",
        "counts = text_file.flatMap(lambda line: line.split(\" \")) \\\n",
        "             .map(lambda word: (word, 1)) \\\n",
        "             .reduceByKey(lambda a, b: a + b)\n",
        "counts.saveAsTextFile(\"counts_via_RDD_v2.txt\")  # will not overwrite\n",
        "\n",
        "  "
      ],
      "metadata": {
        "id": "JHSPeHVosq3W"
      },
      "execution_count": null,
      "outputs": []
    },
    {
      "cell_type": "markdown",
      "source": [
        "DF EXAMPLE"
      ],
      "metadata": {
        "id": "ioTe6U0_sukO"
      }
    },
    {
      "cell_type": "code",
      "source": [
        "spark = SparkSession.builder.appName(\"words\").getOrCreate()\n"
      ],
      "metadata": {
        "id": "ExOXxCFahxNu"
      },
      "execution_count": null,
      "outputs": []
    },
    {
      "cell_type": "code",
      "source": [
        "  input = spark.read.text(\"t8.shakespeare.txt\")"
      ],
      "metadata": {
        "id": "L59MpDv012QG"
      },
      "execution_count": null,
      "outputs": []
    },
    {
      "cell_type": "code",
      "source": [
        "input.show()"
      ],
      "metadata": {
        "colab": {
          "base_uri": "https://localhost:8080/"
        },
        "id": "Cnsrwy0GkREp",
        "outputId": "8e527356-94b1-419a-a7e5-ef2b00817502"
      },
      "execution_count": null,
      "outputs": [
        {
          "output_type": "stream",
          "name": "stdout",
          "text": [
            "+--------------------+\n",
            "|               value|\n",
            "+--------------------+\n",
            "|This is the 100th...|\n",
            "|is presented in c...|\n",
            "|Library of the Fu...|\n",
            "|often releases Et...|\n",
            "|                    |\n",
            "|         Shakespeare|\n",
            "|                    |\n",
            "|*This Etext has c...|\n",
            "|                    |\n",
            "|<<THIS ELECTRONIC...|\n",
            "|SHAKESPEARE IS CO...|\n",
            "|PROVIDED BY PROJE...|\n",
            "|WITH PERMISSION. ...|\n",
            "|DISTRIBUTED SO LO...|\n",
            "|PERSONAL USE ONLY...|\n",
            "|COMMERCIALLY.  PR...|\n",
            "|SERVICE THAT CHAR...|\n",
            "|                    |\n",
            "|*Project Gutenber...|\n",
            "|in the presentati...|\n",
            "+--------------------+\n",
            "only showing top 20 rows\n",
            "\n"
          ]
        }
      ]
    },
    {
      "cell_type": "code",
      "source": [
        "words = input.select(explode(split(input.value, \" \")).alias(\"word\"))"
      ],
      "metadata": {
        "id": "ygBwa8DTkrbD"
      },
      "execution_count": null,
      "outputs": []
    },
    {
      "cell_type": "code",
      "source": [
        "words.show()"
      ],
      "metadata": {
        "colab": {
          "base_uri": "https://localhost:8080/"
        },
        "id": "3aoAMHonlser",
        "outputId": "323e3903-a5d5-40e8-f55a-c87a0137257a"
      },
      "execution_count": null,
      "outputs": [
        {
          "output_type": "stream",
          "name": "stdout",
          "text": [
            "+-----------+\n",
            "|       word|\n",
            "+-----------+\n",
            "|       This|\n",
            "|         is|\n",
            "|        the|\n",
            "|      100th|\n",
            "|      Etext|\n",
            "|       file|\n",
            "|  presented|\n",
            "|         by|\n",
            "|    Project|\n",
            "| Gutenberg,|\n",
            "|        and|\n",
            "|         is|\n",
            "|  presented|\n",
            "|         in|\n",
            "|cooperation|\n",
            "|       with|\n",
            "|      World|\n",
            "|   Library,|\n",
            "|      Inc.,|\n",
            "|       from|\n",
            "+-----------+\n",
            "only showing top 20 rows\n",
            "\n"
          ]
        }
      ]
    },
    {
      "cell_type": "code",
      "source": [
        "wordCount = words.groupBy(\"word\").count()"
      ],
      "metadata": {
        "id": "pF6ZsMVllt6i"
      },
      "execution_count": null,
      "outputs": []
    },
    {
      "cell_type": "code",
      "source": [
        "wordCount.show()"
      ],
      "metadata": {
        "colab": {
          "base_uri": "https://localhost:8080/"
        },
        "id": "JJQh-h_Zl2sC",
        "outputId": "27a358f9-7cdf-4653-828a-737aa3081d00"
      },
      "execution_count": null,
      "outputs": [
        {
          "output_type": "stream",
          "name": "stdout",
          "text": [
            "+-----------+-----+\n",
            "|       word|count|\n",
            "+-----------+-----+\n",
            "|PERMISSION.|  221|\n",
            "|       AWAY|    1|\n",
            "|         By|  809|\n",
            "|      those|  458|\n",
            "|        art|  726|\n",
            "|       some| 1071|\n",
            "|      still|  331|\n",
            "|   commits.|    1|\n",
            "|     pluck,|    1|\n",
            "|     fight,|   42|\n",
            "|       hope|  237|\n",
            "|     travel|   20|\n",
            "|      cures|    6|\n",
            "|     ransom|   34|\n",
            "|     youth,|   73|\n",
            "|    uprear,|    1|\n",
            "|      spoil|   13|\n",
            "|    tresses|    2|\n",
            "|        few|   44|\n",
            "|      cold,|   24|\n",
            "+-----------+-----+\n",
            "only showing top 20 rows\n",
            "\n"
          ]
        }
      ]
    },
    {
      "cell_type": "code",
      "source": [
        "words.groupBy(\"word\").count().sort(\"count\", ascending=False).show()"
      ],
      "metadata": {
        "colab": {
          "base_uri": "https://localhost:8080/"
        },
        "id": "qJ9mTIfrl4b-",
        "outputId": "7c29fe09-010d-43b8-ee7a-8bb8a4669ba2"
      },
      "execution_count": null,
      "outputs": [
        {
          "output_type": "stream",
          "name": "stdout",
          "text": [
            "+----+------+\n",
            "|word| count|\n",
            "+----+------+\n",
            "|    |517065|\n",
            "| the| 23242|\n",
            "|   I| 19540|\n",
            "| and| 18297|\n",
            "|  to| 15623|\n",
            "|  of| 15544|\n",
            "|   a| 12532|\n",
            "|  my| 10824|\n",
            "|  in|  9576|\n",
            "| you|  9081|\n",
            "|  is|  7851|\n",
            "|that|  7531|\n",
            "| And|  7068|\n",
            "| not|  6948|\n",
            "|with|  6722|\n",
            "| his|  6218|\n",
            "|your|  6009|\n",
            "|  be|  6002|\n",
            "| for|  5616|\n",
            "|have|  5236|\n",
            "+----+------+\n",
            "only showing top 20 rows\n",
            "\n"
          ]
        }
      ]
    },
    {
      "cell_type": "code",
      "source": [
        "words.groupBy(\"word\").count().orderBy(\"count\", ascending=False).show()"
      ],
      "metadata": {
        "colab": {
          "base_uri": "https://localhost:8080/"
        },
        "id": "2Y-05POinDqz",
        "outputId": "e6a0f423-920d-4db6-efe0-b2c09ccb374d"
      },
      "execution_count": null,
      "outputs": [
        {
          "output_type": "stream",
          "name": "stdout",
          "text": [
            "+----+------+\n",
            "|word| count|\n",
            "+----+------+\n",
            "|    |517065|\n",
            "| the| 23242|\n",
            "|   I| 19540|\n",
            "| and| 18297|\n",
            "|  to| 15623|\n",
            "|  of| 15544|\n",
            "|   a| 12532|\n",
            "|  my| 10824|\n",
            "|  in|  9576|\n",
            "| you|  9081|\n",
            "|  is|  7851|\n",
            "|that|  7531|\n",
            "| And|  7068|\n",
            "| not|  6948|\n",
            "|with|  6722|\n",
            "| his|  6218|\n",
            "|your|  6009|\n",
            "|  be|  6002|\n",
            "| for|  5616|\n",
            "|have|  5236|\n",
            "+----+------+\n",
            "only showing top 20 rows\n",
            "\n"
          ]
        }
      ]
    },
    {
      "cell_type": "code",
      "source": [
        ""
      ],
      "metadata": {
        "id": "g2kwo2iRpJ2Y"
      },
      "execution_count": null,
      "outputs": []
    }
  ]
}